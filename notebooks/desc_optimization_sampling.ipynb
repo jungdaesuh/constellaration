{
    "cells": [
        {
            "cell_type": "markdown",
            "id": "edb0d9bb",
            "metadata": {},
            "source": [
                "# DESC Based Sampling Demo\n",
                "This notebook demonstrates how to sample an omnigenous field and targets, run a boundary optimization, and visualize the resulting field in Boozer coordinates."
            ]
        },
        {
            "cell_type": "code",
            "execution_count": null,
            "id": "c8ae7de5",
            "metadata": {},
            "outputs": [],
            "source": [
                "from constellaration.omnigeneity.omnigenity_field_sampling import (\n",
                "    SampleOmnigenousFieldAndTargetsSettings,\n",
                ")\n",
                "from constellaration.data_generation import desc_optimization_settings\n",
                "from constellaration.data_generation import desc_optimization\n",
                "from constellaration.mhd import (\n",
                "    vmec_utils,\n",
                "    vmec_settings as vmec_settings_module,\n",
                "    ideal_mhd_parameters as ideal_mhd_parameters_module,\n",
                ")\n",
                "from constellaration.boozer import boozer as boozer_module\n",
                "from constellaration.utils import visualization\n",
                "from constellaration.omnigeneity import omnigenity_field_plot"
            ]
        },
        {
            "cell_type": "markdown",
            "id": "b96ae79a",
            "metadata": {},
            "source": [
                "## 1. Sample an Omnigenous Field and Targets"
            ]
        },
        {
            "cell_type": "code",
            "execution_count": null,
            "id": "e0146367",
            "metadata": {},
            "outputs": [],
            "source": [
                "# Sample a single omnigenous field and targets\n",
                "sampler = SampleOmnigenousFieldAndTargetsSettings(n_samples=1, seed=7)\n",
                "sample = sampler.sample_omnigenous_fields_and_targets()[0]\n",
                "\n",
                "# Inspect sample\n",
                "print(sample.model_dump_json(indent=4))"
            ]
        },
        {
            "cell_type": "code",
            "execution_count": null,
            "id": "f1933d4e",
            "metadata": {},
            "outputs": [],
            "source": [
                "omnigenity_field_plot.plot_boozer_field(sample.omnigenous_field);"
            ]
        },
        {
            "cell_type": "markdown",
            "id": "2998d90e",
            "metadata": {},
            "source": [
                "## 2. Run DESC Boundary Optimization"
            ]
        },
        {
            "cell_type": "code",
            "execution_count": null,
            "id": "f174f045",
            "metadata": {},
            "outputs": [],
            "source": [
                "# Run for ~3 mins\n",
                "settings = desc_optimization_settings.DescOmnigenousFieldOptimizationSettings()\n",
                "settings.optimizer_settings.maxiter = 50\n",
                "optimized_surface = desc_optimization.optimize_boundary_omnigenity_desc(\n",
                "    sample, settings\n",
                ")"
            ]
        },
        {
            "cell_type": "markdown",
            "id": "a807e68d",
            "metadata": {},
            "source": [
                "## 3. Plot the resulting boundary and its field in Boozer coordinates"
            ]
        },
        {
            "cell_type": "code",
            "execution_count": null,
            "id": "a0a1d72f",
            "metadata": {},
            "outputs": [],
            "source": [
                "visualization.plot_boundary(optimized_surface)"
            ]
        },
        {
            "cell_type": "code",
            "execution_count": null,
            "id": "d092e7ee",
            "metadata": {},
            "outputs": [],
            "source": [
                "# Compute the equilibrium\n",
                "vmec_preset_settings = vmec_settings_module.VmecPresetSettings(\n",
                "    fidelity=\"low_fidelity\",\n",
                ")\n",
                "vmec_settings = vmec_settings_module.create_vmec_settings_from_preset(\n",
                "    optimized_surface,\n",
                "    settings=vmec_preset_settings,\n",
                ")\n",
                "ideal_mhd_parameters = ideal_mhd_parameters_module.boundary_to_ideal_mhd_parameters(\n",
                "    optimized_surface\n",
                ")\n",
                "equilibrium = vmec_utils.run_vmec(\n",
                "    boundary=optimized_surface,\n",
                "    mhd_parameters=ideal_mhd_parameters,\n",
                "    vmec_settings=vmec_settings,\n",
                ")"
            ]
        },
        {
            "cell_type": "code",
            "execution_count": null,
            "id": "3eeddd06",
            "metadata": {},
            "outputs": [],
            "source": [
                "# Visualize the target field\n",
                "omnigenity_field_plot.plot_boozer_field(sample.omnigenous_field)\n",
                "\n",
                "# Visualize the optimized field\n",
                "boozer_settings = boozer_module.BoozerSettings(normalized_toroidal_flux=[1])\n",
                "final_field_figure = visualization.plot_boozer_surfaces(\n",
                "    equilibrium=equilibrium,\n",
                "    settings=boozer_settings,\n",
                ")[0]\n",
                "final_field_figure.show()"
            ]
        }
    ],
    "metadata": {
        "kernelspec": {
            "display_name": "venv",
            "language": "python",
            "name": "python3"
        },
        "language_info": {
            "codemirror_mode": {
                "name": "ipython",
                "version": 3
            },
            "file_extension": ".py",
            "mimetype": "text/x-python",
            "name": "python",
            "nbconvert_exporter": "python",
            "pygments_lexer": "ipython3",
            "version": "3.10.13"
        }
    },
    "nbformat": 4,
    "nbformat_minor": 5
}
