{
    "cells": [
        {
            "cell_type": "markdown",
            "id": "1c18f638",
            "metadata": {},
            "source": [
                "# VMEC++ Based Sampling Demo\n",
                "This notebook demonstrates how to sample an omnigenous field and targets, run a boundary optimization, and visualize the resulting field in Boozer coordinates."
            ]
        },
        {
            "cell_type": "code",
            "execution_count": null,
            "id": "b8facdef",
            "metadata": {},
            "outputs": [],
            "source": [
                "from constellaration.omnigeneity.omnigenity_field_sampling import (\n",
                "    SampleOmnigenousFieldAndTargetsSettings,\n",
                ")\n",
                "from constellaration.data_generation.vmec_optimization_settings import (\n",
                "    OmnigenousFieldVmecOptimizationSettings,\n",
                ")\n",
                "from constellaration.data_generation import vmec_optimization\n",
                "from constellaration.mhd import (\n",
                "    vmec_utils,\n",
                "    vmec_settings as vmec_settings_module,\n",
                "    ideal_mhd_parameters as ideal_mhd_parameters_module,\n",
                ")\n",
                "from constellaration.boozer import boozer as boozer_module\n",
                "from constellaration.utils import visualization\n",
                "from constellaration.omnigeneity import omnigenity_field_plot"
            ]
        },
        {
            "cell_type": "markdown",
            "id": "e4e7f2d9",
            "metadata": {},
            "source": [
                "## 1. Sample an Omnigenous Field and Targets"
            ]
        },
        {
            "cell_type": "code",
            "execution_count": null,
            "id": "e0953e09",
            "metadata": {},
            "outputs": [],
            "source": [
                "# Sample a single omnigenous field and targets\n",
                "sampler = SampleOmnigenousFieldAndTargetsSettings(n_samples=1)\n",
                "sample = sampler.sample_omnigenous_fields_and_targets()[0]\n",
                "\n",
                "# Inspect sample\n",
                "print(sample.model_dump_json(indent=4))"
            ]
        },
        {
            "cell_type": "markdown",
            "id": "81b336ac",
            "metadata": {},
            "source": [
                "## 2. Run VMEC Boundary Optimization"
            ]
        },
        {
            "cell_type": "code",
            "execution_count": null,
            "id": "e5ad343d",
            "metadata": {},
            "outputs": [],
            "source": [
                "# Run for ~2m as an example\n",
                "settings = OmnigenousFieldVmecOptimizationSettings(\n",
                "    max_poloidal_mode=2,\n",
                "    max_toroidal_mode=2,\n",
                "    gradient_free_optimization_hypercube_bounds=0.33,\n",
                "    gradient_free_max_time=120,\n",
                "    verbose=True,\n",
                ")\n",
                "optimized_surface = vmec_optimization.optimize_boundary_omnigenity_vmec(\n",
                "    sample, settings\n",
                ")"
            ]
        },
        {
            "cell_type": "markdown",
            "id": "cb1c78ac",
            "metadata": {},
            "source": [
                "## 3. Plot the resulting boundary and its field in Boozer coordinates"
            ]
        },
        {
            "cell_type": "code",
            "execution_count": null,
            "id": "5e0da40a",
            "metadata": {},
            "outputs": [],
            "source": [
                "visualization.plot_boundary(optimized_surface)"
            ]
        },
        {
            "cell_type": "code",
            "execution_count": null,
            "id": "b3b2b20f",
            "metadata": {},
            "outputs": [],
            "source": [
                "# Compute the equilibrium\n",
                "vmec_preset_settings = vmec_settings_module.VmecPresetSettings(\n",
                "    fidelity=\"low_fidelity\",\n",
                ")\n",
                "vmec_settings = vmec_settings_module.create_vmec_settings_from_preset(\n",
                "    optimized_surface,\n",
                "    settings=vmec_preset_settings,\n",
                ")\n",
                "ideal_mhd_parameters = ideal_mhd_parameters_module.boundary_to_ideal_mhd_parameters(\n",
                "    optimized_surface\n",
                ")\n",
                "equilibrium = vmec_utils.run_vmec(\n",
                "    boundary=optimized_surface,\n",
                "    mhd_parameters=ideal_mhd_parameters,\n",
                "    vmec_settings=vmec_settings,\n",
                ")"
            ]
        },
        {
            "cell_type": "code",
            "execution_count": null,
            "id": "efc36ede",
            "metadata": {},
            "outputs": [],
            "source": [
                "# Visualize the target field\n",
                "omnigenity_field_plot.plot_boozer_field(sample.omnigenous_field)\n",
                "\n",
                "# Visualize the optimized field\n",
                "boozer_settings = boozer_module.BoozerSettings(normalized_toroidal_flux=[1])\n",
                "final_field_figure = visualization.plot_boozer_surfaces(\n",
                "    equilibrium=equilibrium,\n",
                "    settings=boozer_settings,\n",
                ")[0]\n",
                "final_field_figure.show()"
            ]
        }
    ],
    "metadata": {
        "kernelspec": {
            "display_name": ".venv",
            "language": "python",
            "name": "python3"
        },
        "language_info": {
            "codemirror_mode": {
                "name": "ipython",
                "version": 3
            },
            "file_extension": ".py",
            "mimetype": "text/x-python",
            "name": "python",
            "nbconvert_exporter": "python",
            "pygments_lexer": "ipython3",
            "version": "3.10.12"
        }
    },
    "nbformat": 4,
    "nbformat_minor": 5
}
